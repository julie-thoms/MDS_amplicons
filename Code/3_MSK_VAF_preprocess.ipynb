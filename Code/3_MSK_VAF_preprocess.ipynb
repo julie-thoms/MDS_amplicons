{
 "cells": [
  {
   "cell_type": "code",
   "execution_count": 1,
   "metadata": {},
   "outputs": [],
   "source": [
    "import numpy as np\n",
    "import pandas as pd\n",
    "import matplotlib as mpl\n",
    "import matplotlib.pyplot as plt\n",
    "import seaborn as sns\n",
    "\n",
    "from bs4 import BeautifulSoup\n",
    "import json"
   ]
  },
  {
   "cell_type": "code",
   "execution_count": 2,
   "metadata": {},
   "outputs": [],
   "source": [
    "with open( '../Data/VAF_data/p377_variant_summary.html', 'r') as mf:\n",
    "    file = mf.read()"
   ]
  },
  {
   "cell_type": "code",
   "execution_count": 3,
   "metadata": {},
   "outputs": [],
   "source": [
    "soup = BeautifulSoup(file, 'html.parser')\n",
    "\n",
    "mysoup = soup.body.div.find_all(\"script\")\n",
    "\n",
    "mysoup = soup.body.div.find_all(\"script\")[1].contents[0].strip()"
   ]
  },
  {
   "cell_type": "code",
   "execution_count": 4,
   "metadata": {},
   "outputs": [],
   "source": [
    "table_dict = json.loads(mysoup)\n",
    "\n",
    "columns = [stuff[\"label\"][0] for stuff in table_dict[\"columns\"]]\n",
    "\n",
    "table_dict[\"data\"]\n",
    "\n",
    "data = []\n",
    "for stuff in table_dict[\"data\"]:\n",
    "    rows = []\n",
    "    for key in stuff:\n",
    "        rows.append(stuff[key])\n",
    "    data.append(rows)\n",
    "    \n",
    "variant_annotations = pd.DataFrame(data, columns = columns)"
   ]
  },
  {
   "cell_type": "code",
   "execution_count": 5,
   "metadata": {},
   "outputs": [
    {
     "data": {
      "text/plain": [
       "32    p.P95H\n",
       "33    p.P95H\n",
       "34    p.P95H\n",
       "Name: PROTEIN_CHANGE, dtype: object"
      ]
     },
     "execution_count": 5,
     "metadata": {},
     "output_type": "execute_result"
    }
   ],
   "source": [
    "#Check where PD7151 SRSF2 data is (PD7151 = H198303, PD7153 = H198302)\n",
    "variant_annotations.loc[variant_annotations['PATIENT'].isin(['IID_H198303'])].loc[variant_annotations['GENE'].isin(['SRSF2'])]['PROTEIN_CHANGE']"
   ]
  },
  {
   "cell_type": "code",
   "execution_count": 6,
   "metadata": {},
   "outputs": [],
   "source": [
    "#Convert to a variant so it's not confused with PD7153 with the same protein change\n",
    "variant_annotations.loc[32,'PROTEIN_CHANGE'] = 'p.P95Hb'\n",
    "variant_annotations.loc[33,'PROTEIN_CHANGE'] = 'p.P95Hb'\n",
    "variant_annotations.loc[34,'PROTEIN_CHANGE'] = 'p.P95Hb'"
   ]
  },
  {
   "cell_type": "code",
   "execution_count": 7,
   "metadata": {},
   "outputs": [
    {
     "data": {
      "text/plain": [
       "32    p.P95Hb\n",
       "33    p.P95Hb\n",
       "34    p.P95Hb\n",
       "Name: PROTEIN_CHANGE, dtype: object"
      ]
     },
     "execution_count": 7,
     "metadata": {},
     "output_type": "execute_result"
    }
   ],
   "source": [
    "#Check this worked\n",
    "variant_annotations.loc[variant_annotations['PATIENT'].isin(['IID_H198303'])].loc[variant_annotations['GENE'].isin(['SRSF2'])]['PROTEIN_CHANGE']"
   ]
  },
  {
   "cell_type": "code",
   "execution_count": 8,
   "metadata": {},
   "outputs": [],
   "source": [
    "#Convert patient IDs\n",
    "variant_annotations['pat'] = variant_annotations['PATIENT']\n",
    "\n",
    "init_dict = {\n",
    "    'IID_H198302': 'PD7153',\n",
    "    'IID_H198303': 'PD7151',\n",
    "    'IID_H198304': 'JP001'\n",
    "}\n",
    "\n",
    "variant_annotations['patient_init'] = variant_annotations['pat'].replace(init_dict)"
   ]
  },
  {
   "cell_type": "code",
   "execution_count": 9,
   "metadata": {},
   "outputs": [],
   "source": [
    "#Add in cell type\n",
    "variant_annotations['cel'] = variant_annotations['TARGET_NAME']\n",
    "ct_dict = {\n",
    "    'T01': 'BM',\n",
    "    'T02': 'Mono',\n",
    "    'T03': 'nBC',\n",
    "    'T04': 'Neut'\n",
    "}\n",
    "\n",
    "patients = variant_annotations['TARGET_NAME'].to_list()\n",
    "cells = []\n",
    "for pat in patients: \n",
    "    for a in ct_dict:\n",
    "        x = (pat.split('_')[2])\n",
    "        if a == x:\n",
    "            cells.append(ct_dict[a])\n",
    "            \n",
    "cell_dict = dict(zip(patients, cells))   \n",
    "\n",
    "variant_annotations['celltype'] = variant_annotations['cel'].replace(cell_dict)\n",
    "\n",
    "variant_annotations = variant_annotations.drop(columns = ['cel', 'pat'])"
   ]
  },
  {
   "cell_type": "code",
   "execution_count": 10,
   "metadata": {},
   "outputs": [],
   "source": [
    "#Add in PCR amplicon name\n",
    "variant_annotations['Mean_VAF'] = pd.to_numeric(variant_annotations['TARGET_VAF_MEAN'], downcast = 'float')"
   ]
  },
  {
   "cell_type": "code",
   "execution_count": 11,
   "metadata": {},
   "outputs": [
    {
     "name": "stdout",
     "output_type": "stream",
     "text": [
      "12 {'p.Q1276*': 'PD7153_CUX1', 'p.P95H': 'PD7153_SRSF2', 'p.L1065fs*1': 'PD7153_TET2a', 'p.Q685*': 'PD7153_TET2b', 'p.T360M': 'PD7153_TGFB3_g', 'p.P95Hb': 'PD7151_SRSF2', 'p.K1090fs*15': 'PD7151_TET2a', 'p.A1224fs*2': 'PD7151_TET2b', 'p.A187T': 'JP001_RUNX1_g', 'p.P95R': 'JP001_SRSF2', 'p.G1218fs*8': 'JP001_TET2a', 'p.Y1337*': 'JP001_TET2b_g'}\n"
     ]
    }
   ],
   "source": [
    "#Convert protein changes to amplicon names\n",
    "#Create dictionary\n",
    "amp_assign = {'p.Q1276*': 'PD7153_CUX1',\n",
    " 'p.P95H': 'PD7153_SRSF2',       \n",
    " 'p.L1065fs*1': 'PD7153_TET2a',\n",
    " 'p.Q685*': 'PD7153_TET2b',\n",
    " 'p.T360M': 'PD7153_TGFB3_g',\n",
    " 'p.P95Hb': 'PD7151_SRSF2',\n",
    " 'p.K1090fs*15': 'PD7151_TET2a',\n",
    " 'p.A1224fs*2': 'PD7151_TET2b',\n",
    " 'p.A187T': 'JP001_RUNX1_g',\n",
    " 'p.P95R': 'JP001_SRSF2',\n",
    " 'p.G1218fs*8': 'JP001_TET2a',\n",
    " 'p.Y1337*': 'JP001_TET2b_g'}\n",
    "\n",
    "#Create list of mutations/amplicons to include in final dataset\n",
    "mut = []\n",
    "\n",
    "for k in amp_assign.keys():\n",
    "    mut.append(amp_assign[k])  \n",
    "\n",
    "print(len(amp_assign), amp_assign)\n",
    "\n",
    "variant_annotations['Amplicon'] = variant_annotations['PROTEIN_CHANGE'].replace(amp_assign)"
   ]
  },
  {
   "cell_type": "code",
   "execution_count": 12,
   "metadata": {},
   "outputs": [
    {
     "name": "stderr",
     "output_type": "stream",
     "text": [
      "<ipython-input-12-c889facadf73>:10: SettingWithCopyWarning: \n",
      "A value is trying to be set on a copy of a slice from a DataFrame.\n",
      "Try using .loc[row_indexer,col_indexer] = value instead\n",
      "\n",
      "See the caveats in the documentation: https://pandas.pydata.org/pandas-docs/stable/user_guide/indexing.html#returning-a-view-versus-a-copy\n",
      "  variant_annotations_amps['pt_test'] = pt_test\n"
     ]
    }
   ],
   "source": [
    "# Make a smaller df that just contains PCR amplicons in it\n",
    "variant_annotations_amps = variant_annotations.loc[variant_annotations['Amplicon'].isin(mut)]\n",
    "\n",
    "#Test for where amplicon assignment doesn't fit patient (ie/ PD7151 SRSF2 which gets incorrectly labelled as a different patient because it wasn't PCR amplified)\n",
    "#Now fixed above so that the mutation can be included\n",
    "pt_test = []\n",
    "for index, row in variant_annotations_amps.iterrows():\n",
    "    pt_test.append(row['Amplicon'].split('_')[0])\n",
    "\n",
    "variant_annotations_amps['pt_test'] = pt_test\n",
    "\n",
    "variant_annotations_amps = variant_annotations_amps.loc[variant_annotations_amps['pt_test'] == variant_annotations_amps['patient_init']]   "
   ]
  },
  {
   "cell_type": "code",
   "execution_count": 13,
   "metadata": {},
   "outputs": [],
   "source": [
    "#Write dataframe to a file and streamline later analysis (no need to re-extract every time)\n",
    "variant_annotations_amps.to_csv('../Data/VAF_data/bulkVAF_data.tsv', sep = '\\t')"
   ]
  },
  {
   "cell_type": "code",
   "execution_count": null,
   "metadata": {},
   "outputs": [],
   "source": []
  }
 ],
 "metadata": {
  "kernelspec": {
   "display_name": "Python 3",
   "language": "python",
   "name": "python3"
  },
  "language_info": {
   "codemirror_mode": {
    "name": "ipython",
    "version": 3
   },
   "file_extension": ".py",
   "mimetype": "text/x-python",
   "name": "python",
   "nbconvert_exporter": "python",
   "pygments_lexer": "ipython3",
   "version": "3.8.3"
  }
 },
 "nbformat": 4,
 "nbformat_minor": 4
}
